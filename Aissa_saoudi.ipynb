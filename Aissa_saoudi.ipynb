{
  "nbformat": 4,
  "nbformat_minor": 0,
  "metadata": {
    "colab": {
      "provenance": []
    },
    "kernelspec": {
      "name": "python3",
      "display_name": "Python 3"
    },
    "language_info": {
      "name": "python"
    }
  },
  "cells": [
    {
      "cell_type": "code",
      "execution_count": 1,
      "metadata": {
        "colab": {
          "base_uri": "https://localhost:8080/"
        },
        "id": "HUgsmmccOIS3",
        "outputId": "fc5470ad-bbef-467b-8d0b-1fd83980bd07"
      },
      "outputs": [
        {
          "output_type": "stream",
          "name": "stdout",
          "text": [
            "Collecting pyspark\n",
            "  Downloading pyspark-3.5.1.tar.gz (317.0 MB)\n",
            "\u001b[2K     \u001b[90m━━━━━━━━━━━━━━━━━━━━━━━━━━━━━━━━━━━━━━━━\u001b[0m \u001b[32m317.0/317.0 MB\u001b[0m \u001b[31m3.2 MB/s\u001b[0m eta \u001b[36m0:00:00\u001b[0m\n",
            "\u001b[?25h  Preparing metadata (setup.py) ... \u001b[?25l\u001b[?25hdone\n",
            "Requirement already satisfied: py4j==0.10.9.7 in /usr/local/lib/python3.10/dist-packages (from pyspark) (0.10.9.7)\n",
            "Building wheels for collected packages: pyspark\n",
            "  Building wheel for pyspark (setup.py) ... \u001b[?25l\u001b[?25hdone\n",
            "  Created wheel for pyspark: filename=pyspark-3.5.1-py2.py3-none-any.whl size=317488491 sha256=c125cf2e2d633ba0cce3792cecea04b686ec40495ac1729cabcae591e029ff5b\n",
            "  Stored in directory: /root/.cache/pip/wheels/80/1d/60/2c256ed38dddce2fdd93be545214a63e02fbd8d74fb0b7f3a6\n",
            "Successfully built pyspark\n",
            "Installing collected packages: pyspark\n",
            "Successfully installed pyspark-3.5.1\n"
          ]
        }
      ],
      "source": [
        "!pip install pyspark\n",
        "\n"
      ]
    },
    {
      "cell_type": "code",
      "source": [
        "from pyspark.sql import SparkSession\n",
        "from google.colab import files\n"
      ],
      "metadata": {
        "id": "DB3LegYEOL7N"
      },
      "execution_count": 2,
      "outputs": []
    },
    {
      "cell_type": "code",
      "source": [
        "spark = SparkSession.builder \\\n",
        "    .appName(\"Chargement de la base de données CSV\") \\\n",
        "    .getOrCreate()\n"
      ],
      "metadata": {
        "id": "9CjbQGw5OiDG"
      },
      "execution_count": 3,
      "outputs": []
    },
    {
      "cell_type": "code",
      "source": [
        "# Utilisez la fonction pour télécharger le fichier CSV\n",
        "uploaded = files.upload()\n",
        "\n",
        "# Récupérer le nom du fichier téléchargé\n",
        "nom_fichier = list(uploaded.keys())[0]\n"
      ],
      "metadata": {
        "colab": {
          "base_uri": "https://localhost:8080/",
          "height": 73
        },
        "id": "W9RW2TJKOmnN",
        "outputId": "01a85b47-540b-47ff-9162-4eed30b918d5"
      },
      "execution_count": 4,
      "outputs": [
        {
          "output_type": "display_data",
          "data": {
            "text/plain": [
              "<IPython.core.display.HTML object>"
            ],
            "text/html": [
              "\n",
              "     <input type=\"file\" id=\"files-7641af6a-5d98-4d9a-808a-d772e36b57c7\" name=\"files[]\" multiple disabled\n",
              "        style=\"border:none\" />\n",
              "     <output id=\"result-7641af6a-5d98-4d9a-808a-d772e36b57c7\">\n",
              "      Upload widget is only available when the cell has been executed in the\n",
              "      current browser session. Please rerun this cell to enable.\n",
              "      </output>\n",
              "      <script>// Copyright 2017 Google LLC\n",
              "//\n",
              "// Licensed under the Apache License, Version 2.0 (the \"License\");\n",
              "// you may not use this file except in compliance with the License.\n",
              "// You may obtain a copy of the License at\n",
              "//\n",
              "//      http://www.apache.org/licenses/LICENSE-2.0\n",
              "//\n",
              "// Unless required by applicable law or agreed to in writing, software\n",
              "// distributed under the License is distributed on an \"AS IS\" BASIS,\n",
              "// WITHOUT WARRANTIES OR CONDITIONS OF ANY KIND, either express or implied.\n",
              "// See the License for the specific language governing permissions and\n",
              "// limitations under the License.\n",
              "\n",
              "/**\n",
              " * @fileoverview Helpers for google.colab Python module.\n",
              " */\n",
              "(function(scope) {\n",
              "function span(text, styleAttributes = {}) {\n",
              "  const element = document.createElement('span');\n",
              "  element.textContent = text;\n",
              "  for (const key of Object.keys(styleAttributes)) {\n",
              "    element.style[key] = styleAttributes[key];\n",
              "  }\n",
              "  return element;\n",
              "}\n",
              "\n",
              "// Max number of bytes which will be uploaded at a time.\n",
              "const MAX_PAYLOAD_SIZE = 100 * 1024;\n",
              "\n",
              "function _uploadFiles(inputId, outputId) {\n",
              "  const steps = uploadFilesStep(inputId, outputId);\n",
              "  const outputElement = document.getElementById(outputId);\n",
              "  // Cache steps on the outputElement to make it available for the next call\n",
              "  // to uploadFilesContinue from Python.\n",
              "  outputElement.steps = steps;\n",
              "\n",
              "  return _uploadFilesContinue(outputId);\n",
              "}\n",
              "\n",
              "// This is roughly an async generator (not supported in the browser yet),\n",
              "// where there are multiple asynchronous steps and the Python side is going\n",
              "// to poll for completion of each step.\n",
              "// This uses a Promise to block the python side on completion of each step,\n",
              "// then passes the result of the previous step as the input to the next step.\n",
              "function _uploadFilesContinue(outputId) {\n",
              "  const outputElement = document.getElementById(outputId);\n",
              "  const steps = outputElement.steps;\n",
              "\n",
              "  const next = steps.next(outputElement.lastPromiseValue);\n",
              "  return Promise.resolve(next.value.promise).then((value) => {\n",
              "    // Cache the last promise value to make it available to the next\n",
              "    // step of the generator.\n",
              "    outputElement.lastPromiseValue = value;\n",
              "    return next.value.response;\n",
              "  });\n",
              "}\n",
              "\n",
              "/**\n",
              " * Generator function which is called between each async step of the upload\n",
              " * process.\n",
              " * @param {string} inputId Element ID of the input file picker element.\n",
              " * @param {string} outputId Element ID of the output display.\n",
              " * @return {!Iterable<!Object>} Iterable of next steps.\n",
              " */\n",
              "function* uploadFilesStep(inputId, outputId) {\n",
              "  const inputElement = document.getElementById(inputId);\n",
              "  inputElement.disabled = false;\n",
              "\n",
              "  const outputElement = document.getElementById(outputId);\n",
              "  outputElement.innerHTML = '';\n",
              "\n",
              "  const pickedPromise = new Promise((resolve) => {\n",
              "    inputElement.addEventListener('change', (e) => {\n",
              "      resolve(e.target.files);\n",
              "    });\n",
              "  });\n",
              "\n",
              "  const cancel = document.createElement('button');\n",
              "  inputElement.parentElement.appendChild(cancel);\n",
              "  cancel.textContent = 'Cancel upload';\n",
              "  const cancelPromise = new Promise((resolve) => {\n",
              "    cancel.onclick = () => {\n",
              "      resolve(null);\n",
              "    };\n",
              "  });\n",
              "\n",
              "  // Wait for the user to pick the files.\n",
              "  const files = yield {\n",
              "    promise: Promise.race([pickedPromise, cancelPromise]),\n",
              "    response: {\n",
              "      action: 'starting',\n",
              "    }\n",
              "  };\n",
              "\n",
              "  cancel.remove();\n",
              "\n",
              "  // Disable the input element since further picks are not allowed.\n",
              "  inputElement.disabled = true;\n",
              "\n",
              "  if (!files) {\n",
              "    return {\n",
              "      response: {\n",
              "        action: 'complete',\n",
              "      }\n",
              "    };\n",
              "  }\n",
              "\n",
              "  for (const file of files) {\n",
              "    const li = document.createElement('li');\n",
              "    li.append(span(file.name, {fontWeight: 'bold'}));\n",
              "    li.append(span(\n",
              "        `(${file.type || 'n/a'}) - ${file.size} bytes, ` +\n",
              "        `last modified: ${\n",
              "            file.lastModifiedDate ? file.lastModifiedDate.toLocaleDateString() :\n",
              "                                    'n/a'} - `));\n",
              "    const percent = span('0% done');\n",
              "    li.appendChild(percent);\n",
              "\n",
              "    outputElement.appendChild(li);\n",
              "\n",
              "    const fileDataPromise = new Promise((resolve) => {\n",
              "      const reader = new FileReader();\n",
              "      reader.onload = (e) => {\n",
              "        resolve(e.target.result);\n",
              "      };\n",
              "      reader.readAsArrayBuffer(file);\n",
              "    });\n",
              "    // Wait for the data to be ready.\n",
              "    let fileData = yield {\n",
              "      promise: fileDataPromise,\n",
              "      response: {\n",
              "        action: 'continue',\n",
              "      }\n",
              "    };\n",
              "\n",
              "    // Use a chunked sending to avoid message size limits. See b/62115660.\n",
              "    let position = 0;\n",
              "    do {\n",
              "      const length = Math.min(fileData.byteLength - position, MAX_PAYLOAD_SIZE);\n",
              "      const chunk = new Uint8Array(fileData, position, length);\n",
              "      position += length;\n",
              "\n",
              "      const base64 = btoa(String.fromCharCode.apply(null, chunk));\n",
              "      yield {\n",
              "        response: {\n",
              "          action: 'append',\n",
              "          file: file.name,\n",
              "          data: base64,\n",
              "        },\n",
              "      };\n",
              "\n",
              "      let percentDone = fileData.byteLength === 0 ?\n",
              "          100 :\n",
              "          Math.round((position / fileData.byteLength) * 100);\n",
              "      percent.textContent = `${percentDone}% done`;\n",
              "\n",
              "    } while (position < fileData.byteLength);\n",
              "  }\n",
              "\n",
              "  // All done.\n",
              "  yield {\n",
              "    response: {\n",
              "      action: 'complete',\n",
              "    }\n",
              "  };\n",
              "}\n",
              "\n",
              "scope.google = scope.google || {};\n",
              "scope.google.colab = scope.google.colab || {};\n",
              "scope.google.colab._files = {\n",
              "  _uploadFiles,\n",
              "  _uploadFilesContinue,\n",
              "};\n",
              "})(self);\n",
              "</script> "
            ]
          },
          "metadata": {}
        },
        {
          "output_type": "stream",
          "name": "stdout",
          "text": [
            "Saving usagers2022.csv to usagers2022.csv\n"
          ]
        }
      ]
    },
    {
      "cell_type": "code",
      "source": [
        "usagers2022 = list(uploaded.keys())[0]"
      ],
      "metadata": {
        "id": "zdyRfp68OuPr"
      },
      "execution_count": 5,
      "outputs": []
    },
    {
      "cell_type": "code",
      "source": [
        "# Charger la base de données à partir du fichier CSV avec PySpark\n",
        "base_de_donnees = spark.read.csv(usagers2022, header=True, inferSchema=True)\n"
      ],
      "metadata": {
        "id": "Ggue9ftxPXPk"
      },
      "execution_count": 6,
      "outputs": []
    },
    {
      "cell_type": "code",
      "source": [
        "base_de_donnees.printSchema()"
      ],
      "metadata": {
        "colab": {
          "base_uri": "https://localhost:8080/"
        },
        "id": "AAYE-1nzPfbQ",
        "outputId": "16e49481-e0d8-4c29-d66c-137756dd965e"
      },
      "execution_count": 7,
      "outputs": [
        {
          "output_type": "stream",
          "name": "stdout",
          "text": [
            "root\n",
            " |-- \"Num_Acc\";\"id_usager\";\"id_vehicule\";\"num_veh\";\"place\";\"catu\";\"grav\";\"sexe\";\"an_nais\";\"trajet\";\"secu1\";\"secu2\";\"secu3\";\"locp\";\"actp\";\"etatp\": string (nullable = true)\n",
            "\n"
          ]
        }
      ]
    },
    {
      "cell_type": "code",
      "source": [
        "base_de_donnees.show()\n"
      ],
      "metadata": {
        "colab": {
          "base_uri": "https://localhost:8080/"
        },
        "id": "Yy0UNDoiPoXG",
        "outputId": "2fe9bc85-e9f8-471d-9499-a35a34cac6df"
      },
      "execution_count": 8,
      "outputs": [
        {
          "output_type": "stream",
          "name": "stdout",
          "text": [
            "+-------------------------------------------------------------------------------------------------------------------------------------------+\n",
            "|\"Num_Acc\";\"id_usager\";\"id_vehicule\";\"num_veh\";\"place\";\"catu\";\"grav\";\"sexe\";\"an_nais\";\"trajet\";\"secu1\";\"secu2\";\"secu3\";\"locp\";\"actp\";\"etatp\"|\n",
            "+-------------------------------------------------------------------------------------------------------------------------------------------+\n",
            "|                                                                                                                       \"202200000001\";\"1...|\n",
            "|                                                                                                                       \"202200000001\";\"1...|\n",
            "|                                                                                                                       \"202200000002\";\"1...|\n",
            "|                                                                                                                       \"202200000002\";\"1...|\n",
            "|                                                                                                                       \"202200000003\";\"1...|\n",
            "|                                                                                                                       \"202200000003\";\"1...|\n",
            "|                                                                                                                       \"202200000004\";\"1...|\n",
            "|                                                                                                                       \"202200000004\";\"1...|\n",
            "|                                                                                                                       \"202200000005\";\"1...|\n",
            "|                                                                                                                       \"202200000005\";\"1...|\n",
            "|                                                                                                                       \"202200000006\";\"1...|\n",
            "|                                                                                                                       \"202200000006\";\"1...|\n",
            "|                                                                                                                       \"202200000007\";\"1...|\n",
            "|                                                                                                                       \"202200000007\";\"1...|\n",
            "|                                                                                                                       \"202200000007\";\"1...|\n",
            "|                                                                                                                       \"202200000008\";\"1...|\n",
            "|                                                                                                                       \"202200000008\";\"1...|\n",
            "|                                                                                                                       \"202200000009\";\"1...|\n",
            "|                                                                                                                       \"202200000009\";\"1...|\n",
            "|                                                                                                                       \"202200000010\";\"1...|\n",
            "+-------------------------------------------------------------------------------------------------------------------------------------------+\n",
            "only showing top 20 rows\n",
            "\n"
          ]
        }
      ]
    },
    {
      "cell_type": "code",
      "source": [
        "base_de_donnees.head(5)"
      ],
      "metadata": {
        "colab": {
          "base_uri": "https://localhost:8080/"
        },
        "id": "ZyJtBl7xQUAI",
        "outputId": "e4ca965d-ad74-4730-9956-2975ddc7ca07"
      },
      "execution_count": 9,
      "outputs": [
        {
          "output_type": "execute_result",
          "data": {
            "text/plain": [
              "[Row(\"Num_Acc\";\"id_usager\";\"id_vehicule\";\"num_veh\";\"place\";\"catu\";\"grav\";\"sexe\";\"an_nais\";\"trajet\";\"secu1\";\"secu2\";\"secu3\";\"locp\";\"actp\";\"etatp\"='\"202200000001\";\"1\\xa0099\\xa0700\";\"813\\xa0952\";\"A01\";\"1\";\"1\";\"3\";\"1\";\"2008\";\"5\";\"2\";\"8\";\" -1\";\" -1\";\" -1\";\" -1\"'),\n",
              " Row(\"Num_Acc\";\"id_usager\";\"id_vehicule\";\"num_veh\";\"place\";\"catu\";\"grav\";\"sexe\";\"an_nais\";\"trajet\";\"secu1\";\"secu2\";\"secu3\";\"locp\";\"actp\";\"etatp\"='\"202200000001\";\"1\\xa0099\\xa0701\";\"813\\xa0953\";\"B01\";\"1\";\"1\";\"1\";\"1\";\"1948\";\"5\";\"1\";\"8\";\" -1\";\" -1\";\" -1\";\" -1\"'),\n",
              " Row(\"Num_Acc\";\"id_usager\";\"id_vehicule\";\"num_veh\";\"place\";\"catu\";\"grav\";\"sexe\";\"an_nais\";\"trajet\";\"secu1\";\"secu2\";\"secu3\";\"locp\";\"actp\";\"etatp\"='\"202200000002\";\"1\\xa0099\\xa0698\";\"813\\xa0950\";\"B01\";\"1\";\"1\";\"4\";\"1\";\"1988\";\"9\";\"1\";\"0\";\" -1\";\"0\";\"0\";\" -1\"'),\n",
              " Row(\"Num_Acc\";\"id_usager\";\"id_vehicule\";\"num_veh\";\"place\";\"catu\";\"grav\";\"sexe\";\"an_nais\";\"trajet\";\"secu1\";\"secu2\";\"secu3\";\"locp\";\"actp\";\"etatp\"='\"202200000002\";\"1\\xa0099\\xa0699\";\"813\\xa0951\";\"A01\";\"1\";\"1\";\"1\";\"1\";\"1970\";\"4\";\"1\";\"0\";\" -1\";\"0\";\"0\";\" -1\"'),\n",
              " Row(\"Num_Acc\";\"id_usager\";\"id_vehicule\";\"num_veh\";\"place\";\"catu\";\"grav\";\"sexe\";\"an_nais\";\"trajet\";\"secu1\";\"secu2\";\"secu3\";\"locp\";\"actp\";\"etatp\"='\"202200000003\";\"1\\xa0099\\xa0696\";\"813\\xa0948\";\"A01\";\"1\";\"1\";\"1\";\"1\";\"2002\";\"0\";\"1\";\"0\";\" -1\";\" -1\";\" -1\";\" -1\"')]"
            ]
          },
          "metadata": {},
          "execution_count": 9
        }
      ]
    },
    {
      "cell_type": "code",
      "source": [
        "base_de_donnees.describe()"
      ],
      "metadata": {
        "colab": {
          "base_uri": "https://localhost:8080/"
        },
        "id": "Z-rYt51dQlCE",
        "outputId": "4a0e5a6e-b9fa-4e08-ac1f-1311b6a8246c"
      },
      "execution_count": 10,
      "outputs": [
        {
          "output_type": "execute_result",
          "data": {
            "text/plain": [
              "DataFrame[summary: string, \"Num_Acc\";\"id_usager\";\"id_vehicule\";\"num_veh\";\"place\";\"catu\";\"grav\";\"sexe\";\"an_nais\";\"trajet\";\"secu1\";\"secu2\";\"secu3\";\"locp\";\"actp\";\"etatp\": string]"
            ]
          },
          "metadata": {},
          "execution_count": 10
        }
      ]
    },
    {
      "cell_type": "code",
      "source": [
        "base_de_donnees.columns"
      ],
      "metadata": {
        "colab": {
          "base_uri": "https://localhost:8080/"
        },
        "id": "QATf4v9lPtJR",
        "outputId": "37e207bd-c861-45d1-82b2-20c57af3e984"
      },
      "execution_count": 11,
      "outputs": [
        {
          "output_type": "execute_result",
          "data": {
            "text/plain": [
              "['\"Num_Acc\";\"id_usager\";\"id_vehicule\";\"num_veh\";\"place\";\"catu\";\"grav\";\"sexe\";\"an_nais\";\"trajet\";\"secu1\";\"secu2\";\"secu3\";\"locp\";\"actp\";\"etatp\"']"
            ]
          },
          "metadata": {},
          "execution_count": 11
        }
      ]
    },
    {
      "cell_type": "code",
      "source": [
        "from pyspark.sql.functions import lit\n"
      ],
      "metadata": {
        "id": "LDjpHe8JXNac"
      },
      "execution_count": 17,
      "outputs": []
    },
    {
      "cell_type": "code",
      "source": [
        "new_df = base_de_donnees.withColumn('test', lit(1))\n",
        "new_df.show()\n"
      ],
      "metadata": {
        "colab": {
          "base_uri": "https://localhost:8080/"
        },
        "id": "QGnTyqa4Xe2B",
        "outputId": "eb485906-cb0f-46a9-a1b9-3d15a1a09581"
      },
      "execution_count": 18,
      "outputs": [
        {
          "output_type": "stream",
          "name": "stdout",
          "text": [
            "+-------------------------------------------------------------------------------------------------------------------------------------------+----+\n",
            "|\"Num_Acc\";\"id_usager\";\"id_vehicule\";\"num_veh\";\"place\";\"catu\";\"grav\";\"sexe\";\"an_nais\";\"trajet\";\"secu1\";\"secu2\";\"secu3\";\"locp\";\"actp\";\"etatp\"|test|\n",
            "+-------------------------------------------------------------------------------------------------------------------------------------------+----+\n",
            "|                                                                                                                       \"202200000001\";\"1...|   1|\n",
            "|                                                                                                                       \"202200000001\";\"1...|   1|\n",
            "|                                                                                                                       \"202200000002\";\"1...|   1|\n",
            "|                                                                                                                       \"202200000002\";\"1...|   1|\n",
            "|                                                                                                                       \"202200000003\";\"1...|   1|\n",
            "|                                                                                                                       \"202200000003\";\"1...|   1|\n",
            "|                                                                                                                       \"202200000004\";\"1...|   1|\n",
            "|                                                                                                                       \"202200000004\";\"1...|   1|\n",
            "|                                                                                                                       \"202200000005\";\"1...|   1|\n",
            "|                                                                                                                       \"202200000005\";\"1...|   1|\n",
            "|                                                                                                                       \"202200000006\";\"1...|   1|\n",
            "|                                                                                                                       \"202200000006\";\"1...|   1|\n",
            "|                                                                                                                       \"202200000007\";\"1...|   1|\n",
            "|                                                                                                                       \"202200000007\";\"1...|   1|\n",
            "|                                                                                                                       \"202200000007\";\"1...|   1|\n",
            "|                                                                                                                       \"202200000008\";\"1...|   1|\n",
            "|                                                                                                                       \"202200000008\";\"1...|   1|\n",
            "|                                                                                                                       \"202200000009\";\"1...|   1|\n",
            "|                                                                                                                       \"202200000009\";\"1...|   1|\n",
            "|                                                                                                                       \"202200000010\";\"1...|   1|\n",
            "+-------------------------------------------------------------------------------------------------------------------------------------------+----+\n",
            "only showing top 20 rows\n",
            "\n"
          ]
        }
      ]
    },
    {
      "cell_type": "code",
      "source": [
        "print(base_de_donnees.columns)"
      ],
      "metadata": {
        "colab": {
          "base_uri": "https://localhost:8080/"
        },
        "id": "B1z98CrxYXZZ",
        "outputId": "1d6c0201-a9c9-4e86-a3e1-932b220d3cca"
      },
      "execution_count": 20,
      "outputs": [
        {
          "output_type": "stream",
          "name": "stdout",
          "text": [
            "['\"Num_Acc\";\"id_usager\";\"id_vehicule\";\"num_veh\";\"place\";\"catu\";\"grav\";\"sexe\";\"an_nais\";\"trajet\";\"secu1\";\"secu2\";\"secu3\";\"locp\";\"actp\";\"etatp\"']\n"
          ]
        }
      ]
    },
    {
      "cell_type": "code",
      "source": [
        "# Afficher le schéma pour vérifier les noms de colonnes\n",
        "base_de_donnees.printSchema()\n",
        "\n",
        "# Ou afficher les noms de colonnes\n",
        "print(base_de_donnees.columns)\n",
        "\n",
        "# Si la colonne 'sexe' existe, assurez-vous que son nom est correctement orthographié\n",
        "# Utilisez la méthode withColumn pour créer une nouvelle colonne 'gender' basée sur la colonne 'sexe'\n",
        "from pyspark.sql.functions import when\n",
        "\n",
        "# Vérifiez si la colonne 'sexe' existe dans le DataFrame\n",
        "if 'sexe' in base_de_donnees.columns:\n",
        "    # Utilisez withColumn pour créer une nouvelle colonne 'gender'\n",
        "    new_df = base_de_donnees.withColumn('gender', when(base_de_donnees['sexe'] == 1, 'Masculin').otherwise('Feminin'))\n",
        "    # Afficher le DataFrame avec la nouvelle colonne 'gender'\n",
        "    new_df.show()\n",
        "else:\n",
        "    print(\"La colonne 'sexe' n'existe pas dans le DataFrame.\")\n"
      ],
      "metadata": {
        "colab": {
          "base_uri": "https://localhost:8080/"
        },
        "id": "4OKPz1paZpJo",
        "outputId": "cf6fac71-eba3-485b-8085-bf78510ee4d2"
      },
      "execution_count": 25,
      "outputs": [
        {
          "output_type": "stream",
          "name": "stdout",
          "text": [
            "root\n",
            " |-- \"Num_Acc\";\"id_usager\";\"id_vehicule\";\"num_veh\";\"place\";\"catu\";\"grav\";\"sexe\";\"an_nais\";\"trajet\";\"secu1\";\"secu2\";\"secu3\";\"locp\";\"actp\";\"etatp\": string (nullable = true)\n",
            "\n",
            "['\"Num_Acc\";\"id_usager\";\"id_vehicule\";\"num_veh\";\"place\";\"catu\";\"grav\";\"sexe\";\"an_nais\";\"trajet\";\"secu1\";\"secu2\";\"secu3\";\"locp\";\"actp\";\"etatp\"']\n",
            "La colonne 'sexe' n'existe pas dans le DataFrame.\n"
          ]
        }
      ]
    },
    {
      "cell_type": "code",
      "source": [
        "print(base_de_donnees.columns)\n"
      ],
      "metadata": {
        "colab": {
          "base_uri": "https://localhost:8080/"
        },
        "id": "CWoivKeAapn2",
        "outputId": "88bfbbca-f261-4fcb-8fd5-1380eb738a2b"
      },
      "execution_count": 28,
      "outputs": [
        {
          "output_type": "stream",
          "name": "stdout",
          "text": [
            "['\"Num_Acc\";\"id_usager\";\"id_vehicule\";\"num_veh\";\"place\";\"catu\";\"grav\";\"sexe\";\"an_nais\";\"trajet\";\"secu1\";\"secu2\";\"secu3\";\"locp\";\"actp\";\"etatp\"']\n"
          ]
        }
      ]
    },
    {
      "cell_type": "code",
      "source": [
        "from pyspark.sql.functions import col\n",
        "\n",
        "base_de_donnees = base_de_donnees.withColumnRenamed('annee_naissance', 'an_nais')\n"
      ],
      "metadata": {
        "id": "F_dzxsGXbAYj"
      },
      "execution_count": 32,
      "outputs": []
    },
    {
      "cell_type": "code",
      "source": [
        "base_de_donnees.describe()"
      ],
      "metadata": {
        "colab": {
          "base_uri": "https://localhost:8080/"
        },
        "id": "QCCE_peub7s0",
        "outputId": "2d3bbc5e-591c-44fd-c903-64987e33775d"
      },
      "execution_count": 35,
      "outputs": [
        {
          "output_type": "execute_result",
          "data": {
            "text/plain": [
              "DataFrame[summary: string, \"Num_Acc\";\"id_usager\";\"id_vehicule\";\"num_veh\";\"place\";\"catu\";\"grav\";\"sexe\";\"an_nais\";\"trajet\";\"secu1\";\"secu2\";\"secu3\";\"locp\";\"actp\";\"etatp\": string]"
            ]
          },
          "metadata": {},
          "execution_count": 35
        }
      ]
    },
    {
      "cell_type": "code",
      "source": [
        "!pip install seaborn"
      ],
      "metadata": {
        "colab": {
          "base_uri": "https://localhost:8080/"
        },
        "id": "RryQmp6GcOUp",
        "outputId": "c8dac142-d77c-494d-e8ad-4747077d78da"
      },
      "execution_count": 37,
      "outputs": [
        {
          "output_type": "stream",
          "name": "stdout",
          "text": [
            "Requirement already satisfied: seaborn in /usr/local/lib/python3.10/dist-packages (0.13.1)\n",
            "Requirement already satisfied: numpy!=1.24.0,>=1.20 in /usr/local/lib/python3.10/dist-packages (from seaborn) (1.25.2)\n",
            "Requirement already satisfied: pandas>=1.2 in /usr/local/lib/python3.10/dist-packages (from seaborn) (2.0.3)\n",
            "Requirement already satisfied: matplotlib!=3.6.1,>=3.4 in /usr/local/lib/python3.10/dist-packages (from seaborn) (3.7.1)\n",
            "Requirement already satisfied: contourpy>=1.0.1 in /usr/local/lib/python3.10/dist-packages (from matplotlib!=3.6.1,>=3.4->seaborn) (1.2.1)\n",
            "Requirement already satisfied: cycler>=0.10 in /usr/local/lib/python3.10/dist-packages (from matplotlib!=3.6.1,>=3.4->seaborn) (0.12.1)\n",
            "Requirement already satisfied: fonttools>=4.22.0 in /usr/local/lib/python3.10/dist-packages (from matplotlib!=3.6.1,>=3.4->seaborn) (4.51.0)\n",
            "Requirement already satisfied: kiwisolver>=1.0.1 in /usr/local/lib/python3.10/dist-packages (from matplotlib!=3.6.1,>=3.4->seaborn) (1.4.5)\n",
            "Requirement already satisfied: packaging>=20.0 in /usr/local/lib/python3.10/dist-packages (from matplotlib!=3.6.1,>=3.4->seaborn) (24.0)\n",
            "Requirement already satisfied: pillow>=6.2.0 in /usr/local/lib/python3.10/dist-packages (from matplotlib!=3.6.1,>=3.4->seaborn) (9.4.0)\n",
            "Requirement already satisfied: pyparsing>=2.3.1 in /usr/local/lib/python3.10/dist-packages (from matplotlib!=3.6.1,>=3.4->seaborn) (3.1.2)\n",
            "Requirement already satisfied: python-dateutil>=2.7 in /usr/local/lib/python3.10/dist-packages (from matplotlib!=3.6.1,>=3.4->seaborn) (2.8.2)\n",
            "Requirement already satisfied: pytz>=2020.1 in /usr/local/lib/python3.10/dist-packages (from pandas>=1.2->seaborn) (2023.4)\n",
            "Requirement already satisfied: tzdata>=2022.1 in /usr/local/lib/python3.10/dist-packages (from pandas>=1.2->seaborn) (2024.1)\n",
            "Requirement already satisfied: six>=1.5 in /usr/local/lib/python3.10/dist-packages (from python-dateutil>=2.7->matplotlib!=3.6.1,>=3.4->seaborn) (1.16.0)\n"
          ]
        }
      ]
    },
    {
      "cell_type": "code",
      "source": [],
      "metadata": {
        "id": "13_D-Yw-dYY4"
      },
      "execution_count": null,
      "outputs": []
    }
  ]
}